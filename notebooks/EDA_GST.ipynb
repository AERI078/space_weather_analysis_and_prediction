{
 "cells": [
  {
   "cell_type": "code",
   "execution_count": null,
   "id": "cc136782",
   "metadata": {},
   "outputs": [],
   "source": [
    "import json\n",
    "import numpy as np\n",
    "import pandas as pd\n",
    "import matplotlib.pyplot as plt\n",
    "import seaborn as sns\n",
    "\n",
    "from etl_package import collect_data"
   ]
  },
  {
   "cell_type": "code",
   "execution_count": 2,
   "id": "802e3930",
   "metadata": {},
   "outputs": [],
   "source": [
    "json_data = collect_data.collect_donki_data('GST')"
   ]
  },
  {
   "cell_type": "code",
   "execution_count": 3,
   "id": "56577e92",
   "metadata": {},
   "outputs": [],
   "source": [
    "df = collect_data.get_dataframe('GST', data=json_data)"
   ]
  },
  {
   "cell_type": "code",
   "execution_count": 4,
   "id": "aca31edf",
   "metadata": {},
   "outputs": [
    {
     "data": {
      "text/html": [
       "<div>\n",
       "<style scoped>\n",
       "    .dataframe tbody tr th:only-of-type {\n",
       "        vertical-align: middle;\n",
       "    }\n",
       "\n",
       "    .dataframe tbody tr th {\n",
       "        vertical-align: top;\n",
       "    }\n",
       "\n",
       "    .dataframe thead th {\n",
       "        text-align: right;\n",
       "    }\n",
       "</style>\n",
       "<table border=\"1\" class=\"dataframe\">\n",
       "  <thead>\n",
       "    <tr style=\"text-align: right;\">\n",
       "      <th></th>\n",
       "      <th>gstID</th>\n",
       "      <th>startTime</th>\n",
       "      <th>allKpIndex</th>\n",
       "      <th>link</th>\n",
       "      <th>linkedEvents</th>\n",
       "      <th>submissionTime</th>\n",
       "      <th>versionId</th>\n",
       "      <th>sentNotifications</th>\n",
       "    </tr>\n",
       "  </thead>\n",
       "  <tbody>\n",
       "    <tr>\n",
       "      <th>0</th>\n",
       "      <td>2015-01-07T06:00:00-GST-001</td>\n",
       "      <td>2015-01-07T06:00Z</td>\n",
       "      <td>[{'observedTime': '2015-01-07T09:00Z', 'kpInde...</td>\n",
       "      <td>https://webtools.ccmc.gsfc.nasa.gov/DONKI/view...</td>\n",
       "      <td>[{'activityID': '2015-01-07T05:24:00-IPS-001'}...</td>\n",
       "      <td>2015-01-07T13:42Z</td>\n",
       "      <td>2</td>\n",
       "      <td>[{'messageID': '20150107-AL-002', 'messageIssu...</td>\n",
       "    </tr>\n",
       "    <tr>\n",
       "      <th>1</th>\n",
       "      <td>2015-03-17T06:00:00-GST-001</td>\n",
       "      <td>2015-03-17T06:00Z</td>\n",
       "      <td>[{'observedTime': '2015-03-17T09:00Z', 'kpInde...</td>\n",
       "      <td>https://webtools.ccmc.gsfc.nasa.gov/DONKI/view...</td>\n",
       "      <td>[{'activityID': '2015-03-15T02:00:00-CME-001'}...</td>\n",
       "      <td>2015-03-18T18:43Z</td>\n",
       "      <td>2</td>\n",
       "      <td>[{'messageID': '20150317-AL-002', 'messageIssu...</td>\n",
       "    </tr>\n",
       "    <tr>\n",
       "      <th>2</th>\n",
       "      <td>2015-03-22T06:00:00-GST-001</td>\n",
       "      <td>2015-03-22T06:00Z</td>\n",
       "      <td>[{'observedTime': '2015-03-22T09:00Z', 'kpInde...</td>\n",
       "      <td>https://webtools.ccmc.gsfc.nasa.gov/DONKI/view...</td>\n",
       "      <td>[{'activityID': '2015-03-21T20:25:00-IPS-001'}]</td>\n",
       "      <td>2015-03-22T09:34Z</td>\n",
       "      <td>1</td>\n",
       "      <td>[{'messageID': '20150322-AL-001', 'messageIssu...</td>\n",
       "    </tr>\n",
       "    <tr>\n",
       "      <th>3</th>\n",
       "      <td>2015-04-10T03:00:00-GST-001</td>\n",
       "      <td>2015-04-10T03:00Z</td>\n",
       "      <td>[{'observedTime': '2015-04-10T06:00Z', 'kpInde...</td>\n",
       "      <td>https://webtools.ccmc.gsfc.nasa.gov/DONKI/view...</td>\n",
       "      <td>None</td>\n",
       "      <td>2015-04-10T06:11Z</td>\n",
       "      <td>1</td>\n",
       "      <td>[{'messageID': '20150410-AL-001', 'messageIssu...</td>\n",
       "    </tr>\n",
       "    <tr>\n",
       "      <th>4</th>\n",
       "      <td>2015-04-16T21:00:00-GST-001</td>\n",
       "      <td>2015-04-16T21:00Z</td>\n",
       "      <td>[{'observedTime': '2015-04-17T00:00Z', 'kpInde...</td>\n",
       "      <td>https://webtools.ccmc.gsfc.nasa.gov/DONKI/view...</td>\n",
       "      <td>None</td>\n",
       "      <td>2015-04-17T00:14Z</td>\n",
       "      <td>1</td>\n",
       "      <td>[{'messageID': '20150417-AL-001', 'messageIssu...</td>\n",
       "    </tr>\n",
       "  </tbody>\n",
       "</table>\n",
       "</div>"
      ],
      "text/plain": [
       "                         gstID          startTime  \\\n",
       "0  2015-01-07T06:00:00-GST-001  2015-01-07T06:00Z   \n",
       "1  2015-03-17T06:00:00-GST-001  2015-03-17T06:00Z   \n",
       "2  2015-03-22T06:00:00-GST-001  2015-03-22T06:00Z   \n",
       "3  2015-04-10T03:00:00-GST-001  2015-04-10T03:00Z   \n",
       "4  2015-04-16T21:00:00-GST-001  2015-04-16T21:00Z   \n",
       "\n",
       "                                          allKpIndex  \\\n",
       "0  [{'observedTime': '2015-01-07T09:00Z', 'kpInde...   \n",
       "1  [{'observedTime': '2015-03-17T09:00Z', 'kpInde...   \n",
       "2  [{'observedTime': '2015-03-22T09:00Z', 'kpInde...   \n",
       "3  [{'observedTime': '2015-04-10T06:00Z', 'kpInde...   \n",
       "4  [{'observedTime': '2015-04-17T00:00Z', 'kpInde...   \n",
       "\n",
       "                                                link  \\\n",
       "0  https://webtools.ccmc.gsfc.nasa.gov/DONKI/view...   \n",
       "1  https://webtools.ccmc.gsfc.nasa.gov/DONKI/view...   \n",
       "2  https://webtools.ccmc.gsfc.nasa.gov/DONKI/view...   \n",
       "3  https://webtools.ccmc.gsfc.nasa.gov/DONKI/view...   \n",
       "4  https://webtools.ccmc.gsfc.nasa.gov/DONKI/view...   \n",
       "\n",
       "                                        linkedEvents     submissionTime  \\\n",
       "0  [{'activityID': '2015-01-07T05:24:00-IPS-001'}...  2015-01-07T13:42Z   \n",
       "1  [{'activityID': '2015-03-15T02:00:00-CME-001'}...  2015-03-18T18:43Z   \n",
       "2    [{'activityID': '2015-03-21T20:25:00-IPS-001'}]  2015-03-22T09:34Z   \n",
       "3                                               None  2015-04-10T06:11Z   \n",
       "4                                               None  2015-04-17T00:14Z   \n",
       "\n",
       "   versionId                                  sentNotifications  \n",
       "0          2  [{'messageID': '20150107-AL-002', 'messageIssu...  \n",
       "1          2  [{'messageID': '20150317-AL-002', 'messageIssu...  \n",
       "2          1  [{'messageID': '20150322-AL-001', 'messageIssu...  \n",
       "3          1  [{'messageID': '20150410-AL-001', 'messageIssu...  \n",
       "4          1  [{'messageID': '20150417-AL-001', 'messageIssu...  "
      ]
     },
     "execution_count": 4,
     "metadata": {},
     "output_type": "execute_result"
    }
   ],
   "source": [
    "df.head()"
   ]
  },
  {
   "cell_type": "code",
   "execution_count": 6,
   "id": "013121c9",
   "metadata": {},
   "outputs": [
    {
     "data": {
      "text/plain": [
       "(134, 8)"
      ]
     },
     "execution_count": 6,
     "metadata": {},
     "output_type": "execute_result"
    }
   ],
   "source": [
    "df.shape"
   ]
  },
  {
   "cell_type": "code",
   "execution_count": null,
   "id": "b745ba8e",
   "metadata": {},
   "outputs": [],
   "source": []
  }
 ],
 "metadata": {
  "kernelspec": {
   "display_name": "spacenv (3.12.0)",
   "language": "python",
   "name": "python3"
  },
  "language_info": {
   "codemirror_mode": {
    "name": "ipython",
    "version": 3
   },
   "file_extension": ".py",
   "mimetype": "text/x-python",
   "name": "python",
   "nbconvert_exporter": "python",
   "pygments_lexer": "ipython3",
   "version": "3.12.0"
  }
 },
 "nbformat": 4,
 "nbformat_minor": 5
}
