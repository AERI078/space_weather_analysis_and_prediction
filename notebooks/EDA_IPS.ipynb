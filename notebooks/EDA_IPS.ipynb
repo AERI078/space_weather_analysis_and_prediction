{
 "cells": [
  {
   "cell_type": "code",
   "execution_count": 1,
   "id": "c2baf8e8",
   "metadata": {},
   "outputs": [],
   "source": [
    "import json\n",
    "import numpy as np\n",
    "import pandas as pd\n",
    "import matplotlib.pyplot as plt\n",
    "import seaborn as sns\n",
    "\n",
    "from etl_package import collect_data"
   ]
  },
  {
   "cell_type": "code",
   "execution_count": 2,
   "id": "7f50f8ff",
   "metadata": {},
   "outputs": [],
   "source": [
    "json_data = collect_data.collect_donki_data('IPS')"
   ]
  },
  {
   "cell_type": "code",
   "execution_count": 3,
   "id": "36b5aa15",
   "metadata": {},
   "outputs": [],
   "source": [
    "df = collect_data.get_dataframe('GST', data=json_data)"
   ]
  },
  {
   "cell_type": "code",
   "execution_count": 4,
   "id": "b56b8083",
   "metadata": {},
   "outputs": [
    {
     "data": {
      "text/html": [
       "<div>\n",
       "<style scoped>\n",
       "    .dataframe tbody tr th:only-of-type {\n",
       "        vertical-align: middle;\n",
       "    }\n",
       "\n",
       "    .dataframe tbody tr th {\n",
       "        vertical-align: top;\n",
       "    }\n",
       "\n",
       "    .dataframe thead th {\n",
       "        text-align: right;\n",
       "    }\n",
       "</style>\n",
       "<table border=\"1\" class=\"dataframe\">\n",
       "  <thead>\n",
       "    <tr style=\"text-align: right;\">\n",
       "      <th></th>\n",
       "      <th>catalog</th>\n",
       "      <th>activityID</th>\n",
       "      <th>location</th>\n",
       "      <th>eventTime</th>\n",
       "      <th>submissionTime</th>\n",
       "      <th>versionId</th>\n",
       "      <th>link</th>\n",
       "      <th>instruments</th>\n",
       "      <th>linkedEvents</th>\n",
       "      <th>sentNotifications</th>\n",
       "    </tr>\n",
       "  </thead>\n",
       "  <tbody>\n",
       "    <tr>\n",
       "      <th>0</th>\n",
       "      <td>M2M_CATALOG</td>\n",
       "      <td>2015-01-07T05:24:00-IPS-001</td>\n",
       "      <td>Earth</td>\n",
       "      <td>2015-01-07T05:24Z</td>\n",
       "      <td>2015-01-07T17:59Z</td>\n",
       "      <td>2</td>\n",
       "      <td>https://webtools.ccmc.gsfc.nasa.gov/DONKI/view...</td>\n",
       "      <td>[{'displayName': 'ACE: MAG'}]</td>\n",
       "      <td>[{'activityID': '2015-01-02T14:36:00-CME-001'}...</td>\n",
       "      <td>None</td>\n",
       "    </tr>\n",
       "    <tr>\n",
       "      <th>1</th>\n",
       "      <td>M2M_CATALOG</td>\n",
       "      <td>2015-01-15T22:39:00-IPS-001</td>\n",
       "      <td>Earth</td>\n",
       "      <td>2015-01-15T22:39Z</td>\n",
       "      <td>2015-01-16T19:18Z</td>\n",
       "      <td>1</td>\n",
       "      <td>https://webtools.ccmc.gsfc.nasa.gov/DONKI/view...</td>\n",
       "      <td>[{'displayName': 'ACE: MAG'}, {'displayName': ...</td>\n",
       "      <td>[{'activityID': '2015-01-12T15:36:00-CME-001'}...</td>\n",
       "      <td>None</td>\n",
       "    </tr>\n",
       "    <tr>\n",
       "      <th>2</th>\n",
       "      <td>M2M_CATALOG</td>\n",
       "      <td>2015-01-23T20:30:00-IPS-001</td>\n",
       "      <td>STEREO A</td>\n",
       "      <td>2015-01-23T20:30Z</td>\n",
       "      <td>2015-01-28T23:24Z</td>\n",
       "      <td>2</td>\n",
       "      <td>https://webtools.ccmc.gsfc.nasa.gov/DONKI/view...</td>\n",
       "      <td>[{'displayName': 'STEREO A: IMPACT'}, {'displa...</td>\n",
       "      <td>None</td>\n",
       "      <td>None</td>\n",
       "    </tr>\n",
       "    <tr>\n",
       "      <th>3</th>\n",
       "      <td>M2M_CATALOG</td>\n",
       "      <td>2015-02-26T20:12:00-IPS-001</td>\n",
       "      <td>Mars</td>\n",
       "      <td>2015-02-26T20:12Z</td>\n",
       "      <td>2017-08-07T14:21Z</td>\n",
       "      <td>1</td>\n",
       "      <td>https://webtools.ccmc.gsfc.nasa.gov/DONKI/view...</td>\n",
       "      <td>[{'displayName': 'MAVEN: MAG'}, {'displayName'...</td>\n",
       "      <td>[{'activityID': '2015-02-24T10:12:00-CME-001'}]</td>\n",
       "      <td>None</td>\n",
       "    </tr>\n",
       "    <tr>\n",
       "      <th>4</th>\n",
       "      <td>M2M_CATALOG</td>\n",
       "      <td>2015-02-27T06:00:00-IPS-001</td>\n",
       "      <td>STEREO A</td>\n",
       "      <td>2015-02-27T06:00Z</td>\n",
       "      <td>2015-02-27T23:43Z</td>\n",
       "      <td>1</td>\n",
       "      <td>https://webtools.ccmc.gsfc.nasa.gov/DONKI/view...</td>\n",
       "      <td>[{'displayName': 'STEREO A: IMPACT'}, {'displa...</td>\n",
       "      <td>None</td>\n",
       "      <td>None</td>\n",
       "    </tr>\n",
       "  </tbody>\n",
       "</table>\n",
       "</div>"
      ],
      "text/plain": [
       "       catalog                   activityID  location          eventTime  \\\n",
       "0  M2M_CATALOG  2015-01-07T05:24:00-IPS-001     Earth  2015-01-07T05:24Z   \n",
       "1  M2M_CATALOG  2015-01-15T22:39:00-IPS-001     Earth  2015-01-15T22:39Z   \n",
       "2  M2M_CATALOG  2015-01-23T20:30:00-IPS-001  STEREO A  2015-01-23T20:30Z   \n",
       "3  M2M_CATALOG  2015-02-26T20:12:00-IPS-001      Mars  2015-02-26T20:12Z   \n",
       "4  M2M_CATALOG  2015-02-27T06:00:00-IPS-001  STEREO A  2015-02-27T06:00Z   \n",
       "\n",
       "      submissionTime  versionId  \\\n",
       "0  2015-01-07T17:59Z          2   \n",
       "1  2015-01-16T19:18Z          1   \n",
       "2  2015-01-28T23:24Z          2   \n",
       "3  2017-08-07T14:21Z          1   \n",
       "4  2015-02-27T23:43Z          1   \n",
       "\n",
       "                                                link  \\\n",
       "0  https://webtools.ccmc.gsfc.nasa.gov/DONKI/view...   \n",
       "1  https://webtools.ccmc.gsfc.nasa.gov/DONKI/view...   \n",
       "2  https://webtools.ccmc.gsfc.nasa.gov/DONKI/view...   \n",
       "3  https://webtools.ccmc.gsfc.nasa.gov/DONKI/view...   \n",
       "4  https://webtools.ccmc.gsfc.nasa.gov/DONKI/view...   \n",
       "\n",
       "                                         instruments  \\\n",
       "0                      [{'displayName': 'ACE: MAG'}]   \n",
       "1  [{'displayName': 'ACE: MAG'}, {'displayName': ...   \n",
       "2  [{'displayName': 'STEREO A: IMPACT'}, {'displa...   \n",
       "3  [{'displayName': 'MAVEN: MAG'}, {'displayName'...   \n",
       "4  [{'displayName': 'STEREO A: IMPACT'}, {'displa...   \n",
       "\n",
       "                                        linkedEvents sentNotifications  \n",
       "0  [{'activityID': '2015-01-02T14:36:00-CME-001'}...              None  \n",
       "1  [{'activityID': '2015-01-12T15:36:00-CME-001'}...              None  \n",
       "2                                               None              None  \n",
       "3    [{'activityID': '2015-02-24T10:12:00-CME-001'}]              None  \n",
       "4                                               None              None  "
      ]
     },
     "execution_count": 4,
     "metadata": {},
     "output_type": "execute_result"
    }
   ],
   "source": [
    "df.head()"
   ]
  },
  {
   "cell_type": "code",
   "execution_count": 5,
   "id": "904ab5ec",
   "metadata": {},
   "outputs": [
    {
     "data": {
      "text/plain": [
       "(700, 10)"
      ]
     },
     "execution_count": 5,
     "metadata": {},
     "output_type": "execute_result"
    }
   ],
   "source": [
    "df.shape"
   ]
  },
  {
   "cell_type": "code",
   "execution_count": null,
   "id": "3f7b9d5f",
   "metadata": {},
   "outputs": [],
   "source": []
  }
 ],
 "metadata": {
  "kernelspec": {
   "display_name": "spacenv (3.12.0)",
   "language": "python",
   "name": "python3"
  },
  "language_info": {
   "codemirror_mode": {
    "name": "ipython",
    "version": 3
   },
   "file_extension": ".py",
   "mimetype": "text/x-python",
   "name": "python",
   "nbconvert_exporter": "python",
   "pygments_lexer": "ipython3",
   "version": "3.12.0"
  }
 },
 "nbformat": 4,
 "nbformat_minor": 5
}
